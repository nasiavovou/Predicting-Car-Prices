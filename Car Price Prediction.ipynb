{
 "cells": [
  {
   "cell_type": "markdown",
   "id": "cde67c1d",
   "metadata": {},
   "source": [
    "# Car Price Prediction Using Multiple Linear Regression"
   ]
  },
  {
   "cell_type": "markdown",
   "id": "a668b51e",
   "metadata": {},
   "source": [
    "### Introduction"
   ]
  },
  {
   "cell_type": "markdown",
   "id": "68766e58",
   "metadata": {},
   "source": [
    "In this project, I will use a dataset contraining Vehicle Sales Data to predict the selling prices of vehicles based on different attributes. I will explore, analyze and visualize the data and also create a multiple linear regression model for the purpose of predicting car prices."
   ]
  },
  {
   "cell_type": "markdown",
   "id": "fc88373d",
   "metadata": {},
   "source": [
    "The dataset includes the following attributes for each car:\n",
    "- year: manufacturing year\n",
    "- make: brand/manufacturer\n",
    "- model: specific model\n",
    "- trim: additional designation for the vehicle model\n",
    "- body type\n",
    "- transmission type\n",
    "- VIN: Vehicle Identification Number (unique for each vehicle)\n",
    "- state: state of registration\n",
    "- condition: rating\n",
    "- odometer: mileage\n",
    "- color: exterior color\n",
    "- interior: interior color\n",
    "- seller: seller information\n",
    "- mmr: Manheim Market Report values\n",
    "- selling price\n",
    "- sale date"
   ]
  },
  {
   "cell_type": "markdown",
   "id": "f9ff0c5b",
   "metadata": {},
   "source": [
    "Data Source: Kaggle (https://www.kaggle.com/datasets/syedanwarafridi/vehicle-sales-data/code)"
   ]
  },
  {
   "cell_type": "markdown",
   "id": "f98608bc",
   "metadata": {},
   "source": [
    "### Importing the libraries"
   ]
  },
  {
   "cell_type": "code",
   "execution_count": 38,
   "id": "1b983659",
   "metadata": {},
   "outputs": [],
   "source": [
    "import pandas as pd\n",
    "import numpy as np \n",
    "from sklearn.linear_model import LinearRegression\n",
    "from sklearn.model_selection import train_test_split\n",
    "import matplotlib.pyplot as plt\n",
    "import seaborn as sns\n",
    "from sklearn.metrics import mean_absolute_error, mean_squared_error, r2_score "
   ]
  },
  {
   "cell_type": "markdown",
   "id": "5fc795b0",
   "metadata": {},
   "source": [
    "### Loading the data"
   ]
  },
  {
   "cell_type": "code",
   "execution_count": 2,
   "id": "6cf30f77",
   "metadata": {},
   "outputs": [],
   "source": [
    "df = pd.read_csv('car_prices.csv')"
   ]
  },
  {
   "cell_type": "markdown",
   "id": "2216ff49",
   "metadata": {},
   "source": [
    "### Investigating the data"
   ]
  },
  {
   "cell_type": "code",
   "execution_count": 3,
   "id": "d2162cad",
   "metadata": {},
   "outputs": [
    {
     "data": {
      "text/html": [
       "<div>\n",
       "<style scoped>\n",
       "    .dataframe tbody tr th:only-of-type {\n",
       "        vertical-align: middle;\n",
       "    }\n",
       "\n",
       "    .dataframe tbody tr th {\n",
       "        vertical-align: top;\n",
       "    }\n",
       "\n",
       "    .dataframe thead th {\n",
       "        text-align: right;\n",
       "    }\n",
       "</style>\n",
       "<table border=\"1\" class=\"dataframe\">\n",
       "  <thead>\n",
       "    <tr style=\"text-align: right;\">\n",
       "      <th></th>\n",
       "      <th>year</th>\n",
       "      <th>make</th>\n",
       "      <th>model</th>\n",
       "      <th>trim</th>\n",
       "      <th>body</th>\n",
       "      <th>transmission</th>\n",
       "      <th>vin</th>\n",
       "      <th>state</th>\n",
       "      <th>condition</th>\n",
       "      <th>odometer</th>\n",
       "      <th>color</th>\n",
       "      <th>interior</th>\n",
       "      <th>seller</th>\n",
       "      <th>mmr</th>\n",
       "      <th>sellingprice</th>\n",
       "      <th>saledate</th>\n",
       "    </tr>\n",
       "  </thead>\n",
       "  <tbody>\n",
       "    <tr>\n",
       "      <th>0</th>\n",
       "      <td>2015</td>\n",
       "      <td>Kia</td>\n",
       "      <td>Sorento</td>\n",
       "      <td>LX</td>\n",
       "      <td>SUV</td>\n",
       "      <td>automatic</td>\n",
       "      <td>5xyktca69fg566472</td>\n",
       "      <td>ca</td>\n",
       "      <td>5.0</td>\n",
       "      <td>16639.0</td>\n",
       "      <td>white</td>\n",
       "      <td>black</td>\n",
       "      <td>kia motors america  inc</td>\n",
       "      <td>20500.0</td>\n",
       "      <td>21500.0</td>\n",
       "      <td>Tue Dec 16 2014 12:30:00 GMT-0800 (PST)</td>\n",
       "    </tr>\n",
       "    <tr>\n",
       "      <th>1</th>\n",
       "      <td>2015</td>\n",
       "      <td>Kia</td>\n",
       "      <td>Sorento</td>\n",
       "      <td>LX</td>\n",
       "      <td>SUV</td>\n",
       "      <td>automatic</td>\n",
       "      <td>5xyktca69fg561319</td>\n",
       "      <td>ca</td>\n",
       "      <td>5.0</td>\n",
       "      <td>9393.0</td>\n",
       "      <td>white</td>\n",
       "      <td>beige</td>\n",
       "      <td>kia motors america  inc</td>\n",
       "      <td>20800.0</td>\n",
       "      <td>21500.0</td>\n",
       "      <td>Tue Dec 16 2014 12:30:00 GMT-0800 (PST)</td>\n",
       "    </tr>\n",
       "    <tr>\n",
       "      <th>2</th>\n",
       "      <td>2014</td>\n",
       "      <td>BMW</td>\n",
       "      <td>3 Series</td>\n",
       "      <td>328i SULEV</td>\n",
       "      <td>Sedan</td>\n",
       "      <td>automatic</td>\n",
       "      <td>wba3c1c51ek116351</td>\n",
       "      <td>ca</td>\n",
       "      <td>45.0</td>\n",
       "      <td>1331.0</td>\n",
       "      <td>gray</td>\n",
       "      <td>black</td>\n",
       "      <td>financial services remarketing (lease)</td>\n",
       "      <td>31900.0</td>\n",
       "      <td>30000.0</td>\n",
       "      <td>Thu Jan 15 2015 04:30:00 GMT-0800 (PST)</td>\n",
       "    </tr>\n",
       "    <tr>\n",
       "      <th>3</th>\n",
       "      <td>2015</td>\n",
       "      <td>Volvo</td>\n",
       "      <td>S60</td>\n",
       "      <td>T5</td>\n",
       "      <td>Sedan</td>\n",
       "      <td>automatic</td>\n",
       "      <td>yv1612tb4f1310987</td>\n",
       "      <td>ca</td>\n",
       "      <td>41.0</td>\n",
       "      <td>14282.0</td>\n",
       "      <td>white</td>\n",
       "      <td>black</td>\n",
       "      <td>volvo na rep/world omni</td>\n",
       "      <td>27500.0</td>\n",
       "      <td>27750.0</td>\n",
       "      <td>Thu Jan 29 2015 04:30:00 GMT-0800 (PST)</td>\n",
       "    </tr>\n",
       "    <tr>\n",
       "      <th>4</th>\n",
       "      <td>2014</td>\n",
       "      <td>BMW</td>\n",
       "      <td>6 Series Gran Coupe</td>\n",
       "      <td>650i</td>\n",
       "      <td>Sedan</td>\n",
       "      <td>automatic</td>\n",
       "      <td>wba6b2c57ed129731</td>\n",
       "      <td>ca</td>\n",
       "      <td>43.0</td>\n",
       "      <td>2641.0</td>\n",
       "      <td>gray</td>\n",
       "      <td>black</td>\n",
       "      <td>financial services remarketing (lease)</td>\n",
       "      <td>66000.0</td>\n",
       "      <td>67000.0</td>\n",
       "      <td>Thu Dec 18 2014 12:30:00 GMT-0800 (PST)</td>\n",
       "    </tr>\n",
       "  </tbody>\n",
       "</table>\n",
       "</div>"
      ],
      "text/plain": [
       "   year   make                model        trim   body transmission  \\\n",
       "0  2015    Kia              Sorento          LX    SUV    automatic   \n",
       "1  2015    Kia              Sorento          LX    SUV    automatic   \n",
       "2  2014    BMW             3 Series  328i SULEV  Sedan    automatic   \n",
       "3  2015  Volvo                  S60          T5  Sedan    automatic   \n",
       "4  2014    BMW  6 Series Gran Coupe        650i  Sedan    automatic   \n",
       "\n",
       "                 vin state  condition  odometer  color interior  \\\n",
       "0  5xyktca69fg566472    ca        5.0   16639.0  white    black   \n",
       "1  5xyktca69fg561319    ca        5.0    9393.0  white    beige   \n",
       "2  wba3c1c51ek116351    ca       45.0    1331.0   gray    black   \n",
       "3  yv1612tb4f1310987    ca       41.0   14282.0  white    black   \n",
       "4  wba6b2c57ed129731    ca       43.0    2641.0   gray    black   \n",
       "\n",
       "                                   seller      mmr  sellingprice  \\\n",
       "0                 kia motors america  inc  20500.0       21500.0   \n",
       "1                 kia motors america  inc  20800.0       21500.0   \n",
       "2  financial services remarketing (lease)  31900.0       30000.0   \n",
       "3                 volvo na rep/world omni  27500.0       27750.0   \n",
       "4  financial services remarketing (lease)  66000.0       67000.0   \n",
       "\n",
       "                                  saledate  \n",
       "0  Tue Dec 16 2014 12:30:00 GMT-0800 (PST)  \n",
       "1  Tue Dec 16 2014 12:30:00 GMT-0800 (PST)  \n",
       "2  Thu Jan 15 2015 04:30:00 GMT-0800 (PST)  \n",
       "3  Thu Jan 29 2015 04:30:00 GMT-0800 (PST)  \n",
       "4  Thu Dec 18 2014 12:30:00 GMT-0800 (PST)  "
      ]
     },
     "execution_count": 3,
     "metadata": {},
     "output_type": "execute_result"
    }
   ],
   "source": [
    "df.head()"
   ]
  },
  {
   "cell_type": "code",
   "execution_count": 4,
   "id": "3df15951",
   "metadata": {},
   "outputs": [
    {
     "name": "stdout",
     "output_type": "stream",
     "text": [
      "<class 'pandas.core.frame.DataFrame'>\n",
      "RangeIndex: 558837 entries, 0 to 558836\n",
      "Data columns (total 16 columns):\n",
      " #   Column        Non-Null Count   Dtype  \n",
      "---  ------        --------------   -----  \n",
      " 0   year          558837 non-null  int64  \n",
      " 1   make          548536 non-null  object \n",
      " 2   model         548438 non-null  object \n",
      " 3   trim          548186 non-null  object \n",
      " 4   body          545642 non-null  object \n",
      " 5   transmission  493485 non-null  object \n",
      " 6   vin           558833 non-null  object \n",
      " 7   state         558837 non-null  object \n",
      " 8   condition     547017 non-null  float64\n",
      " 9   odometer      558743 non-null  float64\n",
      " 10  color         558088 non-null  object \n",
      " 11  interior      558088 non-null  object \n",
      " 12  seller        558837 non-null  object \n",
      " 13  mmr           558799 non-null  float64\n",
      " 14  sellingprice  558825 non-null  float64\n",
      " 15  saledate      558825 non-null  object \n",
      "dtypes: float64(4), int64(1), object(11)\n",
      "memory usage: 68.2+ MB\n"
     ]
    }
   ],
   "source": [
    "df.info()"
   ]
  },
  {
   "cell_type": "markdown",
   "id": "938bc83c",
   "metadata": {},
   "source": [
    "We notice here that there are several null values in our dataset, which we will count below."
   ]
  },
  {
   "cell_type": "code",
   "execution_count": 5,
   "id": "a2084560",
   "metadata": {
    "scrolled": true
   },
   "outputs": [
    {
     "data": {
      "text/plain": [
       "year                0\n",
       "make            10301\n",
       "model           10399\n",
       "trim            10651\n",
       "body            13195\n",
       "transmission    65352\n",
       "vin                 4\n",
       "state               0\n",
       "condition       11820\n",
       "odometer           94\n",
       "color             749\n",
       "interior          749\n",
       "seller              0\n",
       "mmr                38\n",
       "sellingprice       12\n",
       "saledate           12\n",
       "dtype: int64"
      ]
     },
     "execution_count": 5,
     "metadata": {},
     "output_type": "execute_result"
    }
   ],
   "source": [
    "df.isnull().sum()"
   ]
  },
  {
   "cell_type": "code",
   "execution_count": 6,
   "id": "5da37768",
   "metadata": {},
   "outputs": [
    {
     "data": {
      "text/plain": [
       "count    558825.000000\n",
       "mean      13611.358810\n",
       "std        9749.501628\n",
       "min           1.000000\n",
       "25%        6900.000000\n",
       "50%       12100.000000\n",
       "75%       18200.000000\n",
       "max      230000.000000\n",
       "Name: sellingprice, dtype: float64"
      ]
     },
     "execution_count": 6,
     "metadata": {},
     "output_type": "execute_result"
    }
   ],
   "source": [
    "df.sellingprice.describe()"
   ]
  },
  {
   "cell_type": "code",
   "execution_count": 7,
   "id": "b6d45c29",
   "metadata": {
    "scrolled": true
   },
   "outputs": [
    {
     "data": {
      "text/plain": [
       "7069"
      ]
     },
     "execution_count": 7,
     "metadata": {},
     "output_type": "execute_result"
    }
   ],
   "source": [
    "len(df[df.sellingprice <= 500 ])"
   ]
  },
  {
   "cell_type": "code",
   "execution_count": 8,
   "id": "587faefa",
   "metadata": {},
   "outputs": [
    {
     "data": {
      "text/plain": [
       "Ford          93554\n",
       "Chevrolet     60197\n",
       "Nissan        53946\n",
       "Toyota        39871\n",
       "Dodge         30710\n",
       "              ...  \n",
       "airstream         1\n",
       "ford tk           1\n",
       "chev truck        1\n",
       "hyundai tk        1\n",
       "Lotus             1\n",
       "Name: make, Length: 96, dtype: int64"
      ]
     },
     "execution_count": 8,
     "metadata": {},
     "output_type": "execute_result"
    }
   ],
   "source": [
    "df.make.value_counts()"
   ]
  },
  {
   "cell_type": "code",
   "execution_count": 9,
   "id": "a48e457f",
   "metadata": {},
   "outputs": [
    {
     "data": {
      "text/plain": [
       "Sedan          199437\n",
       "SUV            119292\n",
       "sedan           41906\n",
       "suv             24552\n",
       "Hatchback       21380\n",
       "                ...  \n",
       "cab plus 4          1\n",
       "g37 coupe           1\n",
       "CTS-V Wagon         1\n",
       "Ram Van             1\n",
       "cts wagon           1\n",
       "Name: body, Length: 87, dtype: int64"
      ]
     },
     "execution_count": 9,
     "metadata": {},
     "output_type": "execute_result"
    }
   ],
   "source": [
    "df.body.value_counts()"
   ]
  },
  {
   "cell_type": "code",
   "execution_count": 10,
   "id": "ddf5d8ed",
   "metadata": {},
   "outputs": [
    {
     "data": {
      "text/plain": [
       "automatic    475915\n",
       "manual        17544\n",
       "sedan            15\n",
       "Sedan            11\n",
       "Name: transmission, dtype: int64"
      ]
     },
     "execution_count": 10,
     "metadata": {},
     "output_type": "execute_result"
    }
   ],
   "source": [
    "df.transmission.value_counts()"
   ]
  },
  {
   "cell_type": "markdown",
   "id": "d74045d8",
   "metadata": {},
   "source": [
    "### Visualizing the data"
   ]
  },
  {
   "cell_type": "code",
   "execution_count": 11,
   "id": "4ae7dd27",
   "metadata": {},
   "outputs": [
    {
     "data": {
      "image/png": "[encoded data removed]",
      "text/plain": [
       "<Figure size 640x480 with 1 Axes>"
      ]
     },
     "metadata": {},
     "output_type": "display_data"
    },
    {
     "data": {
      "text/plain": [
       "<Figure size 640x480 with 0 Axes>"
      ]
     },
     "metadata": {},
     "output_type": "display_data"
    }
   ],
   "source": [
    "sns.histplot(df.sellingprice, bins=100)\n",
    "plt.axis([0, 70000, 0, 80000])\n",
    "plt.title('Distribution of Selling Price')\n",
    "plt.xlabel('Selling Price')\n",
    "plt.ylabel('Frequency')\n",
    "plt.show()\n",
    "plt.clf()"
   ]
  },
  {
   "cell_type": "markdown",
   "id": "134c549b",
   "metadata": {},
   "source": [
    "In the figure above, we notice that the distribution of the selling price of cars is right-skewed, as most observations are concentrated in the left hand side of the graph, with some less-frequent, higher values on the right side. "
   ]
  },
  {
   "cell_type": "code",
   "execution_count": 12,
   "id": "ae8f2c1d",
   "metadata": {},
   "outputs": [
    {
     "data": {
      "image/png": "[encoded data removed]",
      "text/plain": [
       "<Figure size 640x480 with 1 Axes>"
      ]
     },
     "metadata": {},
     "output_type": "display_data"
    },
    {
     "data": {
      "text/plain": [
       "<Figure size 640x480 with 0 Axes>"
      ]
     },
     "metadata": {},
     "output_type": "display_data"
    }
   ],
   "source": [
    "sns.histplot(df.condition, bins=50)\n",
    "plt.title('Distribution of Condition Rating')\n",
    "plt.xlabel('Condition Rating')\n",
    "plt.ylabel('Frequency')\n",
    "plt.show()\n",
    "plt.clf()"
   ]
  },
  {
   "cell_type": "markdown",
   "id": "a6c920be",
   "metadata": {},
   "source": [
    "The distribution of the condition rating reveals that the rating of each car is stated on a different scale, for which these is no indication in the datatape. Hence, I will not be using this feature as a predictor of price"
   ]
  },
  {
   "cell_type": "markdown",
   "id": "3427af1e",
   "metadata": {},
   "source": [
    "### Cleaning the data"
   ]
  },
  {
   "cell_type": "markdown",
   "id": "42235ad8",
   "metadata": {},
   "source": [
    "##### Primary feature selection"
   ]
  },
  {
   "cell_type": "code",
   "execution_count": 13,
   "id": "469ea777",
   "metadata": {},
   "outputs": [],
   "source": [
    "df = df.drop(columns=['trim', 'body', 'vin', 'condition', 'color', 'interior', 'seller'])"
   ]
  },
  {
   "cell_type": "markdown",
   "id": "fb1760c8",
   "metadata": {},
   "source": [
    "Here, I drop the columns that I do not find relevant or efficient for predicting the selling price of cars. "
   ]
  },
  {
   "cell_type": "markdown",
   "id": "26c683cb",
   "metadata": {},
   "source": [
    "##### Remove records with null values"
   ]
  },
  {
   "cell_type": "code",
   "execution_count": 14,
   "id": "6e65121f",
   "metadata": {},
   "outputs": [
    {
     "data": {
      "text/plain": [
       "484757"
      ]
     },
     "execution_count": 14,
     "metadata": {},
     "output_type": "execute_result"
    }
   ],
   "source": [
    "df = df.dropna()\n",
    "len(df)"
   ]
  },
  {
   "cell_type": "markdown",
   "id": "50ba442e",
   "metadata": {},
   "source": [
    "##### Remove records with selling price < 500 as unrealistic values"
   ]
  },
  {
   "cell_type": "code",
   "execution_count": 15,
   "id": "44eb9e36",
   "metadata": {},
   "outputs": [
    {
     "data": {
      "text/plain": [
       "480565"
      ]
     },
     "execution_count": 15,
     "metadata": {},
     "output_type": "execute_result"
    }
   ],
   "source": [
    "df = df[df.sellingprice>=500]\n",
    "len(df)"
   ]
  },
  {
   "cell_type": "markdown",
   "id": "0655be85",
   "metadata": {},
   "source": [
    "Any records with a selling price below 500 are deemed unrealistic and are, hence, removed to avoid analyzing problematic data."
   ]
  },
  {
   "cell_type": "markdown",
   "id": "9e0cb226",
   "metadata": {},
   "source": [
    "##### Comparing the sale year to the manufacturing year to deduce the 'age' of the car"
   ]
  },
  {
   "cell_type": "code",
   "execution_count": 16,
   "id": "6422f905",
   "metadata": {},
   "outputs": [],
   "source": [
    "df.saledate = pd.to_datetime(df.saledate, utc=True)"
   ]
  },
  {
   "cell_type": "code",
   "execution_count": 17,
   "id": "81de6356",
   "metadata": {},
   "outputs": [],
   "source": [
    "df['saleyear'] = df.saledate.dt.year"
   ]
  },
  {
   "cell_type": "code",
   "execution_count": 18,
   "id": "02ad76b2",
   "metadata": {},
   "outputs": [],
   "source": [
    "df['yearbuild_sold'] = df.saleyear - df.year"
   ]
  },
  {
   "cell_type": "code",
   "execution_count": 19,
   "id": "22b63c20",
   "metadata": {},
   "outputs": [
    {
     "data": {
      "text/plain": [
       "array([-1,  1,  0,  2,  3,  4,  5,  6,  7,  8,  9, 10, 11, 12, 13, 14, 15,\n",
       "       16, 19, 18, 17, 20, 25, 22, 21, 23, 24, 28, 29, 31, 26])"
      ]
     },
     "execution_count": 19,
     "metadata": {},
     "output_type": "execute_result"
    }
   ],
   "source": [
    "df.yearbuild_sold.unique()"
   ]
  },
  {
   "cell_type": "markdown",
   "id": "83e62c85",
   "metadata": {},
   "source": [
    "Here, we notice some instances where the calculated age of some vehicles is -1, due to the vehicle being shown as sold in December, while the manufacturing year is that of the following year. I will adjust this below:"
   ]
  },
  {
   "cell_type": "code",
   "execution_count": 20,
   "id": "e9586e96",
   "metadata": {},
   "outputs": [
    {
     "data": {
      "text/plain": [
       "array([ 0,  1,  2,  3,  4,  5,  6,  7,  8,  9, 10, 11, 12, 13, 14, 15, 16,\n",
       "       19, 18, 17, 20, 25, 22, 21, 23, 24, 28, 29, 31, 26])"
      ]
     },
     "execution_count": 20,
     "metadata": {},
     "output_type": "execute_result"
    }
   ],
   "source": [
    "df.yearbuild_sold = df.yearbuild_sold.where(df.yearbuild_sold != -1, 0)\n",
    "df.yearbuild_sold.unique()"
   ]
  },
  {
   "cell_type": "markdown",
   "id": "564ab356",
   "metadata": {},
   "source": [
    "##### Clean 'make' variable"
   ]
  },
  {
   "cell_type": "code",
   "execution_count": 21,
   "id": "703b3d52",
   "metadata": {},
   "outputs": [],
   "source": [
    "df.make = df.make.str.upper()"
   ]
  },
  {
   "cell_type": "code",
   "execution_count": 22,
   "id": "2f9d1ba9",
   "metadata": {},
   "outputs": [],
   "source": [
    "df.make = np.where((df.make == \"MERCEDES\") | (df.make == \"MERCEDES-B\"), \"MERCEDES-BENZ\", df.make)"
   ]
  },
  {
   "cell_type": "code",
   "execution_count": 23,
   "id": "7cbde8ab",
   "metadata": {},
   "outputs": [],
   "source": [
    "df.make = np.where(df.make == \"LANDROVER\", \"LAND ROVER\", df.make)"
   ]
  },
  {
   "cell_type": "code",
   "execution_count": 24,
   "id": "245bec1e",
   "metadata": {},
   "outputs": [],
   "source": [
    "df.make = np.where(df.make == \"VW\", \"VOLKSWAGEN\", df.make)"
   ]
  },
  {
   "cell_type": "code",
   "execution_count": 25,
   "id": "5f36960f",
   "metadata": {},
   "outputs": [],
   "source": [
    "df.make = np.where(df.make.str.contains(\" TK\"), df.make.str[:-3], df.make)"
   ]
  },
  {
   "cell_type": "code",
   "execution_count": 26,
   "id": "b0842feb",
   "metadata": {},
   "outputs": [],
   "source": [
    "df.make = np.where(df.make.str.contains(\" TRUCK\"), df.make.str[:-6], df.make)"
   ]
  },
  {
   "cell_type": "code",
   "execution_count": 27,
   "id": "78f24e6a",
   "metadata": {},
   "outputs": [
    {
     "data": {
      "text/plain": [
       "56"
      ]
     },
     "execution_count": 27,
     "metadata": {},
     "output_type": "execute_result"
    }
   ],
   "source": [
    "df.make.nunique()"
   ]
  },
  {
   "cell_type": "markdown",
   "id": "d74ca03a",
   "metadata": {},
   "source": [
    "Reduced the number of unique values in the 'make' variable from 96 to 56 by cleaning the data. This will significantly increase the effiiciency of my linear regression model, as I will need to encode the make variable in order to use it in my regression model. Thus, cleaning this column reduces the number of variables I will input into my regression model by 40 variables, which significantly saves up on computing power and time. "
   ]
  },
  {
   "cell_type": "markdown",
   "id": "d62436e9",
   "metadata": {},
   "source": [
    "### Splitting the data"
   ]
  },
  {
   "cell_type": "markdown",
   "id": "464c0454",
   "metadata": {},
   "source": [
    "##### Splitting into independent and dependent variables"
   ]
  },
  {
   "cell_type": "code",
   "execution_count": 28,
   "id": "d247f5f2",
   "metadata": {},
   "outputs": [],
   "source": [
    "X = df[['make', 'transmission', 'odometer', 'yearbuild_sold', 'mmr']]"
   ]
  },
  {
   "cell_type": "code",
   "execution_count": 29,
   "id": "9b984d62",
   "metadata": {},
   "outputs": [],
   "source": [
    "y = df.sellingprice"
   ]
  },
  {
   "cell_type": "markdown",
   "id": "fedaf1d4",
   "metadata": {},
   "source": [
    "##### One-hot encoding the categorical variables"
   ]
  },
  {
   "cell_type": "code",
   "execution_count": 30,
   "id": "0413602c",
   "metadata": {},
   "outputs": [],
   "source": [
    "X = pd.get_dummies(data=X, columns=['make', 'transmission'], drop_first=True)"
   ]
  },
  {
   "cell_type": "markdown",
   "id": "2c6dc0da",
   "metadata": {},
   "source": [
    "##### Splitting into training and test sets"
   ]
  },
  {
   "cell_type": "code",
   "execution_count": 31,
   "id": "82b81c36",
   "metadata": {},
   "outputs": [],
   "source": [
    "X_train, X_test, y_train, y_test = train_test_split(X, y, random_state=1, test_size=0.2)"
   ]
  },
  {
   "cell_type": "markdown",
   "id": "ef4cdec9",
   "metadata": {},
   "source": [
    "### Creating multiple linear regression model and fitting it to the training data"
   ]
  },
  {
   "cell_type": "code",
   "execution_count": 32,
   "id": "7a818024",
   "metadata": {},
   "outputs": [
    {
     "data": {
      "text/html": [
       "<style>#sk-container-id-1 {color: black;}#sk-container-id-1 pre{padding: 0;}#sk-container-id-1 div.sk-toggleable {background-color: white;}#sk-container-id-1 label.sk-toggleable__label {cursor: pointer;display: block;width: 100%;margin-bottom: 0;padding: 0.3em;box-sizing: border-box;text-align: center;}#sk-container-id-1 label.sk-toggleable__label-arrow:before {content: \"▸\";float: left;margin-right: 0.25em;color: #696969;}#sk-container-id-1 label.sk-toggleable__label-arrow:hover:before {color: black;}#sk-container-id-1 div.sk-estimator:hover label.sk-toggleable__label-arrow:before {color: black;}#sk-container-id-1 div.sk-toggleable__content {max-height: 0;max-width: 0;overflow: hidden;text-align: left;background-color: #f0f8ff;}#sk-container-id-1 div.sk-toggleable__content pre {margin: 0.2em;color: black;border-radius: 0.25em;background-color: #f0f8ff;}#sk-container-id-1 input.sk-toggleable__control:checked~div.sk-toggleable__content {max-height: 200px;max-width: 100%;overflow: auto;}#sk-container-id-1 input.sk-toggleable__control:checked~label.sk-toggleable__label-arrow:before {content: \"▾\";}#sk-container-id-1 div.sk-estimator input.sk-toggleable__control:checked~label.sk-toggleable__label {background-color: #d4ebff;}#sk-container-id-1 div.sk-label input.sk-toggleable__control:checked~label.sk-toggleable__label {background-color: #d4ebff;}#sk-container-id-1 input.sk-hidden--visually {border: 0;clip: rect(1px 1px 1px 1px);clip: rect(1px, 1px, 1px, 1px);height: 1px;margin: -1px;overflow: hidden;padding: 0;position: absolute;width: 1px;}#sk-container-id-1 div.sk-estimator {font-family: monospace;background-color: #f0f8ff;border: 1px dotted black;border-radius: 0.25em;box-sizing: border-box;margin-bottom: 0.5em;}#sk-container-id-1 div.sk-estimator:hover {background-color: #d4ebff;}#sk-container-id-1 div.sk-parallel-item::after {content: \"\";width: 100%;border-bottom: 1px solid gray;flex-grow: 1;}#sk-container-id-1 div.sk-label:hover label.sk-toggleable__label {background-color: #d4ebff;}#sk-container-id-1 div.sk-serial::before {content: \"\";position: absolute;border-left: 1px solid gray;box-sizing: border-box;top: 0;bottom: 0;left: 50%;z-index: 0;}#sk-container-id-1 div.sk-serial {display: flex;flex-direction: column;align-items: center;background-color: white;padding-right: 0.2em;padding-left: 0.2em;position: relative;}#sk-container-id-1 div.sk-item {position: relative;z-index: 1;}#sk-container-id-1 div.sk-parallel {display: flex;align-items: stretch;justify-content: center;background-color: white;position: relative;}#sk-container-id-1 div.sk-item::before, #sk-container-id-1 div.sk-parallel-item::before {content: \"\";position: absolute;border-left: 1px solid gray;box-sizing: border-box;top: 0;bottom: 0;left: 50%;z-index: -1;}#sk-container-id-1 div.sk-parallel-item {display: flex;flex-direction: column;z-index: 1;position: relative;background-color: white;}#sk-container-id-1 div.sk-parallel-item:first-child::after {align-self: flex-end;width: 50%;}#sk-container-id-1 div.sk-parallel-item:last-child::after {align-self: flex-start;width: 50%;}#sk-container-id-1 div.sk-parallel-item:only-child::after {width: 0;}#sk-container-id-1 div.sk-dashed-wrapped {border: 1px dashed gray;margin: 0 0.4em 0.5em 0.4em;box-sizing: border-box;padding-bottom: 0.4em;background-color: white;}#sk-container-id-1 div.sk-label label {font-family: monospace;font-weight: bold;display: inline-block;line-height: 1.2em;}#sk-container-id-1 div.sk-label-container {text-align: center;}#sk-container-id-1 div.sk-container {/* jupyter's `normalize.less` sets `[hidden] { display: none; }` but bootstrap.min.css set `[hidden] { display: none !important; }` so we also need the `!important` here to be able to override the default hidden behavior on the sphinx rendered scikit-learn.org. See: https://github.com/scikit-learn/scikit-learn/issues/21755 */display: inline-block !important;position: relative;}#sk-container-id-1 div.sk-text-repr-fallback {display: none;}</style><div id=\"sk-container-id-1\" class=\"sk-top-container\"><div class=\"sk-text-repr-fallback\"><pre>LinearRegression()</pre><b>In a Jupyter environment, please rerun this cell to show the HTML representation or trust the notebook. <br />On GitHub, the HTML representation is unable to render, please try loading this page with nbviewer.org.</b></div><div class=\"sk-container\" hidden><div class=\"sk-item\"><div class=\"sk-estimator sk-toggleable\"><input class=\"sk-toggleable__control sk-hidden--visually\" id=\"sk-estimator-id-1\" type=\"checkbox\" checked><label for=\"sk-estimator-id-1\" class=\"sk-toggleable__label sk-toggleable__label-arrow\">LinearRegression</label><div class=\"sk-toggleable__content\"><pre>LinearRegression()</pre></div></div></div></div></div>"
      ],
      "text/plain": [
       "LinearRegression()"
      ]
     },
     "execution_count": 32,
     "metadata": {},
     "output_type": "execute_result"
    }
   ],
   "source": [
    "mlr = LinearRegression()\n",
    "mlr.fit(X_train, y_train)"
   ]
  },
  {
   "cell_type": "markdown",
   "id": "1f0bdb4c",
   "metadata": {},
   "source": [
    "### Evaluating the model"
   ]
  },
  {
   "cell_type": "code",
   "execution_count": 41,
   "id": "ae0faec0",
   "metadata": {},
   "outputs": [],
   "source": [
    "y_pred = mlr.predict(X_test)"
   ]
  },
  {
   "cell_type": "markdown",
   "id": "be4c0780",
   "metadata": {},
   "source": [
    "##### R-squared"
   ]
  },
  {
   "cell_type": "code",
   "execution_count": 33,
   "id": "d1891023",
   "metadata": {
    "scrolled": true
   },
   "outputs": [
    {
     "data": {
      "text/plain": [
       "0.9626969647736272"
      ]
     },
     "execution_count": 33,
     "metadata": {},
     "output_type": "execute_result"
    }
   ],
   "source": [
    "mlr.score(X_test, y_test)"
   ]
  },
  {
   "cell_type": "markdown",
   "id": "045521cc",
   "metadata": {},
   "source": [
    "##### Mean Absolute Error"
   ]
  },
  {
   "cell_type": "code",
   "execution_count": 45,
   "id": "988d52f2",
   "metadata": {},
   "outputs": [
    {
     "data": {
      "text/plain": [
       "1090.6338789186036"
      ]
     },
     "execution_count": 45,
     "metadata": {},
     "output_type": "execute_result"
    }
   ],
   "source": [
    "mae = mean_absolute_error(y_test, y_pred)\n",
    "mae"
   ]
  },
  {
   "cell_type": "markdown",
   "id": "e68cb454",
   "metadata": {},
   "source": [
    "##### Mean Squared Error"
   ]
  },
  {
   "cell_type": "code",
   "execution_count": 43,
   "id": "98e08a17",
   "metadata": {},
   "outputs": [
    {
     "data": {
      "text/plain": [
       "3450572.2132268464"
      ]
     },
     "execution_count": 43,
     "metadata": {},
     "output_type": "execute_result"
    }
   ],
   "source": [
    "mse = mean_squared_error(y_test, y_pred)\n",
    "mse"
   ]
  },
  {
   "cell_type": "markdown",
   "id": "c9030dd6",
   "metadata": {},
   "source": [
    "##### Regression Coefficients"
   ]
  },
  {
   "cell_type": "code",
   "execution_count": 34,
   "id": "541dc43b",
   "metadata": {},
   "outputs": [],
   "source": [
    "predictors = X.columns"
   ]
  },
  {
   "cell_type": "code",
   "execution_count": 35,
   "id": "7a0bbf65",
   "metadata": {},
   "outputs": [],
   "source": [
    "coefficients = pd.Series(mlr.coef_, predictors).sort_values()"
   ]
  },
  {
   "cell_type": "code",
   "execution_count": 36,
   "id": "5d072013",
   "metadata": {},
   "outputs": [
    {
     "data": {
      "text/plain": [
       "make_FISKER        -2744.364488\n",
       "make_PLYMOUTH      -2238.489360\n",
       "make_TESLA         -1586.862861\n",
       "make_FERRARI       -1301.417619\n",
       "make_ROLLS-ROYCE    -604.382419\n",
       "make_MASERATI       -510.363114\n",
       "make_DOT            -486.836177\n",
       "make_JAGUAR         -394.495871\n",
       "make_OLDSMOBILE     -275.833977\n",
       "make_DAEWOO         -268.722674\n",
       "dtype: float64"
      ]
     },
     "execution_count": 36,
     "metadata": {},
     "output_type": "execute_result"
    }
   ],
   "source": [
    "coefficients.head(10)"
   ]
  },
  {
   "cell_type": "code",
   "execution_count": 37,
   "id": "05cb45ff",
   "metadata": {},
   "outputs": [
    {
     "data": {
      "text/plain": [
       "59"
      ]
     },
     "execution_count": 37,
     "metadata": {},
     "output_type": "execute_result"
    }
   ],
   "source": [
    "len(coefficients)"
   ]
  },
  {
   "cell_type": "markdown",
   "id": "44e1cbe4",
   "metadata": {},
   "source": [
    "### Conclusion"
   ]
  },
  {
   "cell_type": "markdown",
   "id": "5f2fad34",
   "metadata": {},
   "source": [
    "The accuracy of the model is very high, at 96.3%, making this an effective model at predicting the selling prices of cars based on their make, transmission, mileage, age, and mmr. This figure could be further improved by including more independent variables in the model. However, that would increase the processing time significantly, as the remaining features are categorical variables with many classes each. "
   ]
  }
 ],
 "metadata": {
  "kernelspec": {
   "display_name": "Python 3 (ipykernel)",
   "language": "python",
   "name": "python3"
  },
  "language_info": {
   "codemirror_mode": {
    "name": "ipython",
    "version": 3
   },
   "file_extension": ".py",
   "mimetype": "text/x-python",
   "name": "python",
   "nbconvert_exporter": "python",
   "pygments_lexer": "ipython3",
   "version": "3.11.4"
  }
 },
 "nbformat": 4,
 "nbformat_minor": 5
}
